{
 "cells": [
  {
   "attachments": {},
   "cell_type": "markdown",
   "metadata": {},
   "source": [
    "# **Dataset Research**"
   ]
  },
  {
   "attachments": {},
   "cell_type": "markdown",
   "metadata": {},
   "source": [
    "## **Identifying and Defining**\n",
    "### **The Scenario and Purpose:**\n",
    "My chosen scenario is the list of Hollywood movies with the highest box office gross in the world. This is based on many different factors, such as the movie name, budget, distributor, worldwide sales, genre and release date. Using this dataset, I would be able to find out the top 1000 highest-grossing Hollywood movies of all time. The dataset can be downloaded from Kaggle as a CSV file, and will be analyzed in the CSV file format.\n",
    "\n",
    "**Link to the dataset:** https://www.kaggle.com/datasets/sanjeetsinghnaik/top-1000-highest-grossing-movies/data\n",
    "### **Functional Requirements**\n",
    "#### **Data Loading**\n",
    "In terms of data loading, the dataset must be suitable for analysis. The dataset must be downloaded or converted into an appropriate file format for use, such as the CSV file format, as the CSV file format is typically the best to perform data analysis procedures in.\n",
    "* **Input:** The user will need to input an appropriate file format such as .CSV\n",
    "* **Output:** There wouldn't be an output.\n",
    "#### **Data Cleaning**\n",
    "In terms of data cleaning, the system will need to be able to fix or remove incorrect, corrupted, incorrectly formatted, duplicate, or incomplete data within the dataset. In terms of achieving this, the system will need to be able to identify data discrepancies using data observability tools, remove unnecessary values and duplicate data, fix structural errors, address any missing values, standardize data entry and formatting, and develop a data quality strategy.\n",
    "* **Input:** The user will need to filter data using either Pandas or Microsoft Excel.\n",
    "* **Output:** If done correctly, a neat and processed dataset should be outputted by the program used.\n",
    "#### **Data Analysis**\n",
    "In terms of data analysis, the statistical analysis will need to be able to obtain raw data and subsequently convert it into information useful for decision-making by users. Data will collected and analyzed to answer questions, test hypotheses, or disprove theories.\n",
    "* **Input:** The user will need to run a program capable of processing and analyzing data accurately.\n",
    "* **Output:** If done correctly, the used program will output the necessary analysis results requested by the user.\n",
    "#### **Data Visualization**\n",
    "In terms of data visualization, the data from the dataset will need to be represented visually through use of common graphics, such as charts, plots, infographics and even animations."
   ]
  },
  {
   "attachments": {},
   "cell_type": "markdown",
   "metadata": {},
   "source": [
    "### **Functional Requirements**\n",
    "#### **Data Loading**\n",
    "##### In terms of data loading, the dataset must be suitable for analysis. The dataset must be downloaded or converted into an appropriate file format for use, such as the CSV file format, as the CSV file format is typically the best to perform data analysis procedures in.\n",
    "* Input: The user will need to input an appropriate file format such as .CSV\n",
    "* Output: There wouldn't be an output.\n",
    "#### **Data Cleaning**\n",
    "##### In terms of data cleaning, the system will need to be able to fix or remove incorrect, corrupted, incorrectly formatted, duplicate, or incomplete data within the dataset. In terms of achieving this, the system will need to be able to identify data discrepancies using data observability tools, remove unnecessary values and duplicate data, fix structural errors, address any missing values, standardize data entry and formatting, and develop a data quality strategy.\n",
    "* Input: The user will need to filter data using either Pandas or Microsoft Excel.\n",
    "* Output: If done correctly, a neat and processed dataset should be outputted by the program used.\n",
    "#### **Data Analysis**\n",
    "##### In terms of data analysis, the statistical analysis will need to be able to obtain raw data and subsequently convert it into information useful for decision-making by users. Data will collected and analyzed to answer questions, test hypotheses, or disprove theories.\n",
    "* Input: The user will need to run a program capable of processing and analyzing data accurately.\n",
    "* Output: If done correctly, the used program will output the necessary analysis results requested by the user.\n",
    "#### **Data Visualization"
   ]
  }
 ],
 "metadata": {
  "language_info": {
   "name": "python"
  },
  "orig_nbformat": 4
 },
 "nbformat": 4,
 "nbformat_minor": 2
}
